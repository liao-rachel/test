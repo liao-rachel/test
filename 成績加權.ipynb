{
 "cells": [
  {
   "cell_type": "code",
   "execution_count": 2,
   "metadata": {},
   "outputs": [
    {
     "name": "stdout",
     "output_type": "stream",
     "text": [
      "請先輸入成績再輸入學分數，中間空格，資料輸入完請按Enter鍵\n",
      "88 3\n",
      "60 3\n",
      "44.0\n",
      "87 2\n",
      "33.0\n",
      "22.5\n",
      "\n"
     ]
    },
    {
     "ename": "IndexError",
     "evalue": "list index out of range",
     "output_type": "error",
     "traceback": [
      "\u001b[1;31m---------------------------------------------------------------------------\u001b[0m",
      "\u001b[1;31mIndexError\u001b[0m                                Traceback (most recent call last)",
      "\u001b[1;32m<ipython-input-2-8636a9dba2ec>\u001b[0m in \u001b[0;36m<module>\u001b[1;34m()\u001b[0m\n\u001b[0;32m      5\u001b[0m     \u001b[1;32mif\u001b[0m \u001b[0mtemp\u001b[0m \u001b[1;33m==\u001b[0m \u001b[1;34m''\u001b[0m\u001b[1;33m:\u001b[0m\u001b[1;33m\u001b[0m\u001b[1;33m\u001b[0m\u001b[0m\n\u001b[0;32m      6\u001b[0m         \u001b[1;32mbreak\u001b[0m\u001b[1;33m\u001b[0m\u001b[1;33m\u001b[0m\u001b[0m\n\u001b[1;32m----> 7\u001b[1;33m     \u001b[0mscore_doc\u001b[0m\u001b[1;33m[\u001b[0m\u001b[0mint\u001b[0m\u001b[1;33m(\u001b[0m\u001b[0mtemp\u001b[0m\u001b[1;33m[\u001b[0m\u001b[1;36m0\u001b[0m\u001b[1;33m]\u001b[0m\u001b[1;33m)\u001b[0m\u001b[1;33m]\u001b[0m\u001b[1;33m=\u001b[0m\u001b[0mint\u001b[0m\u001b[1;33m(\u001b[0m\u001b[0mtemp\u001b[0m\u001b[1;33m[\u001b[0m\u001b[1;36m1\u001b[0m\u001b[1;33m]\u001b[0m\u001b[1;33m)\u001b[0m\u001b[1;33m\u001b[0m\u001b[1;33m\u001b[0m\u001b[0m\n\u001b[0m\u001b[0;32m      8\u001b[0m     \u001b[0mkeyList\u001b[0m\u001b[1;33m=\u001b[0m\u001b[1;33m[\u001b[0m\u001b[1;33m]\u001b[0m\u001b[1;33m\u001b[0m\u001b[1;33m\u001b[0m\u001b[0m\n\u001b[0;32m      9\u001b[0m     \u001b[1;32mfor\u001b[0m \u001b[0meach\u001b[0m \u001b[1;32min\u001b[0m \u001b[0mscore_doc\u001b[0m\u001b[1;33m.\u001b[0m\u001b[0mkeys\u001b[0m\u001b[1;33m(\u001b[0m\u001b[1;33m)\u001b[0m\u001b[1;33m:\u001b[0m\u001b[1;33m\u001b[0m\u001b[1;33m\u001b[0m\u001b[0m\n",
      "\u001b[1;31mIndexError\u001b[0m: list index out of range"
     ]
    }
   ],
   "source": [
    "score_doc={}\n",
    "print('請先輸入成績再輸入學分數，中間空格，資料輸入完請按Enter鍵')\n",
    "while True:\n",
    "    temp = input().split()\n",
    "    if temp == '':\n",
    "        break\n",
    "    score_doc[int(temp[0])]=int(temp[1])\n",
    "    keyList=[]\n",
    "    for each in score_doc.keys():\n",
    "        keyList.append(each)\n",
    "    valueList=[]\n",
    "    for each in score_doc.values():\n",
    "        valueList.append(each)\n",
    "    sum=0\n",
    "    for each in valueList:\n",
    "        sum+=each\n",
    "    for each in range(len(keyList)-1):\n",
    "        average=keyList[each]*valueList[each]/sum\n",
    "        print(average)"
   ]
  },
  {
   "cell_type": "code",
   "execution_count": 2,
   "metadata": {},
   "outputs": [
    {
     "name": "stdout",
     "output_type": "stream",
     "text": [
      "89 3\n"
     ]
    }
   ],
   "source": [
    "score=input().split()"
   ]
  },
  {
   "cell_type": "code",
   "execution_count": 6,
   "metadata": {},
   "outputs": [
    {
     "name": "stdout",
     "output_type": "stream",
     "text": [
      "请输入数据，直接回车结束：\n",
      "1 2 3\n",
      "2 0\n",
      "1 2 3\n",
      "\n",
      "[1, 2, 3]\n",
      "[2, 0]\n",
      "[1, 2, 3]\n"
     ]
    }
   ],
   "source": [
    "lst = []\n",
    "print('请输入数据，直接回车结束：')\n",
    "while True:\n",
    "    temp = input()\n",
    "    if temp == '':\n",
    "        break\n",
    "    lst.append([int(i) for i in temp.split(' ')])\n",
    "for i in lst:\n",
    "    print(i)"
   ]
  },
  {
   "cell_type": "code",
   "execution_count": 3,
   "metadata": {},
   "outputs": [
    {
     "name": "stdout",
     "output_type": "stream",
     "text": [
      "88 3\n",
      "98 2\n",
      "60 3\n",
      "80\n"
     ]
    }
   ],
   "source": [
    "a=input().split()\n",
    "b=input().split()\n",
    "c=input().split()\n",
    "sc=(int(a[0])*int(a[1])+int(b[0])*int(b[1])+int(c[0])*int(c[1]))//(int(a[1])+int(b[1])+int(c[1]))\n",
    "print(sc)"
   ]
  },
  {
   "cell_type": "code",
   "execution_count": 11,
   "metadata": {},
   "outputs": [
    {
     "name": "stdout",
     "output_type": "stream",
     "text": [
      "[1, 3, 5]\n"
     ]
    }
   ],
   "source": [
    "score_doc={1:2,3:4,5:6}\n",
    "keyList=[]\n",
    "for each in score_doc.keys():\n",
    "    keyList.append(each)\n",
    "print(keyList)\n",
    "valueList=[]\n",
    "for each in score_doc.values():\n",
    "    valueList.append(each)\n",
    "print(valueList)"
   ]
  },
  {
   "cell_type": "code",
   "execution_count": 25,
   "metadata": {},
   "outputs": [
    {
     "name": "stdout",
     "output_type": "stream",
     "text": [
      "9\n"
     ]
    }
   ],
   "source": [
    "sum=0\n",
    "for each in keyList:\n",
    "    sum+=each\n",
    "print(sum)"
   ]
  },
  {
   "cell_type": "code",
   "execution_count": null,
   "metadata": {},
   "outputs": [],
   "source": []
  },
  {
   "cell_type": "code",
   "execution_count": null,
   "metadata": {},
   "outputs": [],
   "source": []
  },
  {
   "cell_type": "code",
   "execution_count": null,
   "metadata": {},
   "outputs": [],
   "source": []
  }
 ],
 "metadata": {
  "kernelspec": {
   "display_name": "Python 3",
   "language": "python",
   "name": "python3"
  },
  "language_info": {
   "codemirror_mode": {
    "name": "ipython",
    "version": 3
   },
   "file_extension": ".py",
   "mimetype": "text/x-python",
   "name": "python",
   "nbconvert_exporter": "python",
   "pygments_lexer": "ipython3",
   "version": "3.7.4"
  }
 },
 "nbformat": 4,
 "nbformat_minor": 2
}
