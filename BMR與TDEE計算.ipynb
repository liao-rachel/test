{
 "cells": [
  {
   "cell_type": "markdown",
   "metadata": {},
   "source": [
    "# BMR計算\n",
    "BMR為基礎代謝率，指人體24小時在靜臥狀態下消耗的熱量。"
   ]
  },
  {
   "cell_type": "code",
   "execution_count": 4,
   "metadata": {},
   "outputs": [
    {
     "name": "stdout",
     "output_type": "stream",
     "text": [
      "生理性別F\n",
      "年齡21\n",
      "身高156\n",
      "體重45\n",
      "你的BMR為 1269.1\n"
     ]
    }
   ],
   "source": [
    "g=input('生理性別，男生請填M，女生請填F')\n",
    "a=int(input('年齡'))\n",
    "h=int(input('身高'))\n",
    "w=int(input('體重'))\n",
    "if g == 'M':\n",
    "    result=66+(13.7*w)+(5*h)-(6.8*a)\n",
    "    print('你的BMR為',result)\n",
    "elif g == 'F':\n",
    "    result=655 + (9.6*w) + (1.8*h) - (4.7*a)\n",
    "    print('你的BMR為',result)\n",
    "else:\n",
    "    print('輸入資料有誤')"
   ]
  },
  {
   "cell_type": "markdown",
   "metadata": {},
   "source": [
    "# TDEE計算\n",
    "TDEE為每日總消耗熱量，想減肥的話要先知道你的TDEE，再根據這個數值決定每日食物攝取的多寡。\n",
    "請根據以下描述找到你的活動量，依序填入BMR與活動量後，就會幫你算出TDEE囉。\n",
    "* 久坐:辦公室工作者，幾乎不運動。請填1。\n",
    "* 輕度活動:每週輕鬆的運動3-5天。請填2。\n",
    "* 中度活動:每週中等強度的運動3-5天。請填3。\n",
    "* 高度活動:每週高強度運動6-7天。請填4。\n",
    "* 非常高度活動:勞力密集工作或每天訓練者。請填5。"
   ]
  },
  {
   "cell_type": "code",
   "execution_count": 4,
   "metadata": {},
   "outputs": [
    {
     "name": "stdout",
     "output_type": "stream",
     "text": [
      "BMR1269.1\n",
      "活動量3\n",
      "你的TDEE為 1967.105\n"
     ]
    }
   ],
   "source": [
    "b=float(input('BMR'))\n",
    "activ=input('活動量')\n",
    "if activ=='1':\n",
    "    print('你的TDEE為',b*1.2)\n",
    "elif activ=='2':\n",
    "    print('你的TDEE為',b*1.375)\n",
    "elif activ=='3':\n",
    "    print('你的TDEE為',b*1.55)\n",
    "elif activ=='4':\n",
    "    print('你的TDEE為',b*1.725)\n",
    "elif activ=='5':\n",
    "    print('你的TDEE為',b*1.9)\n",
    "else :\n",
    "    print('輸入資料有誤')"
   ]
  },
  {
   "cell_type": "code",
   "execution_count": null,
   "metadata": {},
   "outputs": [],
   "source": []
  }
 ],
 "metadata": {
  "kernelspec": {
   "display_name": "Python 3",
   "language": "python",
   "name": "python3"
  },
  "language_info": {
   "codemirror_mode": {
    "name": "ipython",
    "version": 3
   },
   "file_extension": ".py",
   "mimetype": "text/x-python",
   "name": "python",
   "nbconvert_exporter": "python",
   "pygments_lexer": "ipython3",
   "version": "3.7.4"
  }
 },
 "nbformat": 4,
 "nbformat_minor": 2
}
