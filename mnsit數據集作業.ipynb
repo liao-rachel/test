{
 "cells": [
  {
   "cell_type": "code",
   "execution_count": 1,
   "metadata": {},
   "outputs": [],
   "source": [
    "%matplotlib inline\n",
    "\n",
    "import numpy as np\n",
    "import matplotlib.pyplot as plt"
   ]
  },
  {
   "cell_type": "code",
   "execution_count": 2,
   "metadata": {},
   "outputs": [],
   "source": [
    "import tensorflow as tf"
   ]
  },
  {
   "cell_type": "markdown",
   "metadata": {},
   "source": [
    "## 1.讀入MNSIT數據集"
   ]
  },
  {
   "cell_type": "code",
   "execution_count": 3,
   "metadata": {},
   "outputs": [],
   "source": [
    "from tensorflow.keras.datasets import fashion_mnist"
   ]
  },
  {
   "cell_type": "code",
   "execution_count": 5,
   "metadata": {},
   "outputs": [
    {
     "name": "stdout",
     "output_type": "stream",
     "text": [
      "Downloading data from https://storage.googleapis.com/tensorflow/tf-keras-datasets/train-labels-idx1-ubyte.gz\n",
      "32768/29515 [=================================] - 0s 1us/step\n",
      "Downloading data from https://storage.googleapis.com/tensorflow/tf-keras-datasets/train-images-idx3-ubyte.gz\n",
      "26427392/26421880 [==============================] - 11s 0us/step\n",
      "Downloading data from https://storage.googleapis.com/tensorflow/tf-keras-datasets/t10k-labels-idx1-ubyte.gz\n",
      "8192/5148 [===============================================] - 0s 0us/step\n",
      "Downloading data from https://storage.googleapis.com/tensorflow/tf-keras-datasets/t10k-images-idx3-ubyte.gz\n",
      "4423680/4422102 [==============================] - 2s 0us/step\n"
     ]
    }
   ],
   "source": [
    "(x_train,y_train),(x_test,y_test) = fashion_mnist.load_data()"
   ]
  },
  {
   "cell_type": "markdown",
   "metadata": {},
   "source": [
    "## 2.欣賞數據集內容"
   ]
  },
  {
   "cell_type": "code",
   "execution_count": 6,
   "metadata": {},
   "outputs": [
    {
     "data": {
      "text/plain": [
       "(60000, 10000)"
      ]
     },
     "execution_count": 6,
     "metadata": {},
     "output_type": "execute_result"
    }
   ],
   "source": [
    "len(x_train),len(x_test)"
   ]
  },
  {
   "cell_type": "code",
   "execution_count": 7,
   "metadata": {},
   "outputs": [],
   "source": [
    "class_names = ['T-shirt/top', 'Trouser', 'Pullover', 'Dress', 'Coat',\n",
    "               'Sandal', 'Shirt', 'Sneaker', 'Bag', 'Ankle boot']"
   ]
  },
  {
   "cell_type": "code",
   "execution_count": 8,
   "metadata": {},
   "outputs": [],
   "source": [
    "n=77"
   ]
  },
  {
   "cell_type": "code",
   "execution_count": 9,
   "metadata": {},
   "outputs": [
    {
     "data": {
      "text/plain": [
       "<matplotlib.image.AxesImage at 0x20271722b00>"
      ]
     },
     "execution_count": 9,
     "metadata": {},
     "output_type": "execute_result"
    },
    {
     "data": {
      "image/png": "[encoded data removed]",
      "text/plain": [
       "<Figure size 432x288 with 1 Axes>"
      ]
     },
     "metadata": {
      "needs_background": "light"
     },
     "output_type": "display_data"
    }
   ],
   "source": [
    "plt.imshow(x_train[n], cmap='Greys')"
   ]
  },
  {
   "cell_type": "code",
   "execution_count": 10,
   "metadata": {},
   "outputs": [
    {
     "name": "stdout",
     "output_type": "stream",
     "text": [
      "這是 Shirt\n"
     ]
    }
   ],
   "source": [
    "print('這是', class_names[y_train[n]])"
   ]
  },
  {
   "cell_type": "markdown",
   "metadata": {},
   "source": [
    "## 3.資料整理"
   ]
  },
  {
   "cell_type": "code",
   "execution_count": 11,
   "metadata": {},
   "outputs": [],
   "source": [
    "x_train=x_train/255\n",
    "x_test=x_test/255"
   ]
  },
  {
   "cell_type": "code",
   "execution_count": 12,
   "metadata": {},
   "outputs": [
    {
     "data": {
      "text/plain": [
       "(60000, 28, 28)"
      ]
     },
     "execution_count": 12,
     "metadata": {},
     "output_type": "execute_result"
    }
   ],
   "source": [
    "x_train.shape"
   ]
  },
  {
   "cell_type": "code",
   "execution_count": 13,
   "metadata": {},
   "outputs": [],
   "source": [
    "x_train=x_train.reshape(60000,784)"
   ]
  },
  {
   "cell_type": "code",
   "execution_count": 14,
   "metadata": {},
   "outputs": [],
   "source": [
    "x_test=x_test.reshape(10000,784)"
   ]
  },
  {
   "cell_type": "code",
   "execution_count": 15,
   "metadata": {},
   "outputs": [],
   "source": [
    "from tensorflow.keras.utils import to_categorical"
   ]
  },
  {
   "cell_type": "code",
   "execution_count": 16,
   "metadata": {},
   "outputs": [],
   "source": [
    "y_train = to_categorical(y_train,10)\n",
    "y_test = to_categorical(y_test,10)"
   ]
  },
  {
   "cell_type": "markdown",
   "metadata": {},
   "source": [
    "## 4.打造神經網路"
   ]
  },
  {
   "cell_type": "code",
   "execution_count": 31,
   "metadata": {},
   "outputs": [],
   "source": [
    "from tensorflow.keras.models import Sequential\n",
    "from tensorflow.keras.layers import Dense\n",
    "from tensorflow.keras.optimizers import SGD"
   ]
  },
  {
   "cell_type": "code",
   "execution_count": 32,
   "metadata": {},
   "outputs": [],
   "source": [
    "model = Sequential()"
   ]
  },
  {
   "cell_type": "code",
   "execution_count": 33,
   "metadata": {},
   "outputs": [],
   "source": [
    "model.add(Dense(99, input_dim=784, activation='relu'))"
   ]
  },
  {
   "cell_type": "code",
   "execution_count": 34,
   "metadata": {},
   "outputs": [],
   "source": [
    "model.add(Dense(99,activation='relu'))"
   ]
  },
  {
   "cell_type": "code",
   "execution_count": 35,
   "metadata": {},
   "outputs": [],
   "source": [
    "model.add(Dense(10, activation='softmax'))"
   ]
  },
  {
   "cell_type": "markdown",
   "metadata": {},
   "source": [
    "## 5.組裝神經網路"
   ]
  },
  {
   "cell_type": "code",
   "execution_count": 36,
   "metadata": {},
   "outputs": [],
   "source": [
    "model.compile(loss='mse',optimizer=SGD(lr=0.056),metrics=['accuracy'])"
   ]
  },
  {
   "cell_type": "code",
   "execution_count": 37,
   "metadata": {},
   "outputs": [
    {
     "name": "stdout",
     "output_type": "stream",
     "text": [
      "Model: \"sequential_1\"\n",
      "_________________________________________________________________\n",
      "Layer (type)                 Output Shape              Param #   \n",
      "=================================================================\n",
      "dense_8 (Dense)              (None, 99)                77715     \n",
      "_________________________________________________________________\n",
      "dense_9 (Dense)              (None, 99)                9900      \n",
      "_________________________________________________________________\n",
      "dense_10 (Dense)             (None, 10)                1000      \n",
      "=================================================================\n",
      "Total params: 88,615\n",
      "Trainable params: 88,615\n",
      "Non-trainable params: 0\n",
      "_________________________________________________________________\n"
     ]
    }
   ],
   "source": [
    "model.summary()"
   ]
  },
  {
   "cell_type": "markdown",
   "metadata": {},
   "source": [
    "## 5.訓練"
   ]
  },
  {
   "cell_type": "code",
   "execution_count": 38,
   "metadata": {},
   "outputs": [
    {
     "name": "stdout",
     "output_type": "stream",
     "text": [
      "Train on 60000 samples\n",
      "Epoch 1/20\n",
      "60000/60000 [==============================] - 12s 194us/sample - loss: 0.0853 - accuracy: 0.3041\n",
      "Epoch 2/20\n",
      "60000/60000 [==============================] - 9s 156us/sample - loss: 0.0728 - accuracy: 0.4673\n",
      "Epoch 3/20\n",
      "60000/60000 [==============================] - 9s 157us/sample - loss: 0.0607 - accuracy: 0.5794\n",
      "Epoch 4/20\n",
      "60000/60000 [==============================] - 10s 159us/sample - loss: 0.0509 - accuracy: 0.6627\n",
      "Epoch 5/20\n",
      "60000/60000 [==============================] - 10s 166us/sample - loss: 0.0456 - accuracy: 0.6736\n",
      "Epoch 6/20\n",
      "60000/60000 [==============================] - 9s 158us/sample - loss: 0.0422 - accuracy: 0.6922\n",
      "Epoch 7/20\n",
      "60000/60000 [==============================] - 10s 162us/sample - loss: 0.0397 - accuracy: 0.7214\n",
      "Epoch 8/20\n",
      "60000/60000 [==============================] - 9s 146us/sample - loss: 0.0376 - accuracy: 0.7478\n",
      "Epoch 9/20\n",
      "60000/60000 [==============================] - 8s 136us/sample - loss: 0.0357 - accuracy: 0.7667\n",
      "Epoch 10/20\n",
      "60000/60000 [==============================] - 9s 148us/sample - loss: 0.0342 - accuracy: 0.7803\n",
      "Epoch 11/20\n",
      "60000/60000 [==============================] - 9s 145us/sample - loss: 0.0328 - accuracy: 0.7900\n",
      "Epoch 12/20\n",
      "60000/60000 [==============================] - 9s 147us/sample - loss: 0.0317 - accuracy: 0.7966\n",
      "Epoch 13/20\n",
      "60000/60000 [==============================] - 8s 139us/sample - loss: 0.0307 - accuracy: 0.8035\n",
      "Epoch 14/20\n",
      "60000/60000 [==============================] - 9s 142us/sample - loss: 0.0299 - accuracy: 0.8076 - loss: 0.0299 - accuracy: 0.\n",
      "Epoch 15/20\n",
      "60000/60000 [==============================] - 10s 167us/sample - loss: 0.0292 - accuracy: 0.8109- loss: 0.0292 - accuracy: \n",
      "Epoch 16/20\n",
      "60000/60000 [==============================] - 10s 163us/sample - loss: 0.0286 - accuracy: 0.8144\n",
      "Epoch 17/20\n",
      "60000/60000 [==============================] - 9s 157us/sample - loss: 0.0280 - accuracy: 0.8164\n",
      "Epoch 18/20\n",
      "60000/60000 [==============================] - 10s 165us/sample - loss: 0.0275 - accuracy: 0.8188\n",
      "Epoch 19/20\n",
      "60000/60000 [==============================] - 10s 161us/sample - loss: 0.0271 - accuracy: 0.8210\n",
      "Epoch 20/20\n",
      "60000/60000 [==============================] - 10s 166us/sample - loss: 0.0267 - accuracy: 0.8235- loss: 0.0\n"
     ]
    },
    {
     "data": {
      "text/plain": [
       "<tensorflow.python.keras.callbacks.History at 0x2026ea18550>"
      ]
     },
     "execution_count": 38,
     "metadata": {},
     "output_type": "execute_result"
    }
   ],
   "source": [
    "model.fit(x_train,y_train, batch_size=200, epochs=20)"
   ]
  },
  {
   "cell_type": "markdown",
   "metadata": {},
   "source": [
    "### 準確率有0.82了，感覺再多跑幾次可能有機會成功"
   ]
  },
  {
   "cell_type": "code",
   "execution_count": 39,
   "metadata": {},
   "outputs": [
    {
     "name": "stdout",
     "output_type": "stream",
     "text": [
      "Train on 60000 samples\n",
      "Epoch 1/30\n",
      "60000/60000 [==============================] - 10s 159us/sample - loss: 0.0264 - accuracy: 0.8253\n",
      "Epoch 2/30\n",
      "60000/60000 [==============================] - 9s 157us/sample - loss: 0.0260 - accuracy: 0.8275\n",
      "Epoch 3/30\n",
      "60000/60000 [==============================] - 10s 159us/sample - loss: 0.0257 - accuracy: 0.8287\n",
      "Epoch 4/30\n",
      "60000/60000 [==============================] - 9s 157us/sample - loss: 0.0255 - accuracy: 0.8308\n",
      "Epoch 5/30\n",
      "60000/60000 [==============================] - 9s 154us/sample - loss: 0.0252 - accuracy: 0.8320\n",
      "Epoch 6/30\n",
      "60000/60000 [==============================] - 9s 157us/sample - loss: 0.0250 - accuracy: 0.8343\n",
      "Epoch 7/30\n",
      "60000/60000 [==============================] - 10s 159us/sample - loss: 0.0248 - accuracy: 0.8353\n",
      "Epoch 8/30\n",
      "60000/60000 [==============================] - 9s 157us/sample - loss: 0.0245 - accuracy: 0.8367\n",
      "Epoch 9/30\n",
      "60000/60000 [==============================] - 10s 160us/sample - loss: 0.0244 - accuracy: 0.8377\n",
      "Epoch 10/30\n",
      "60000/60000 [==============================] - 10s 168us/sample - loss: 0.0242 - accuracy: 0.8379\n",
      "Epoch 11/30\n",
      "60000/60000 [==============================] - 12s 199us/sample - loss: 0.0240 - accuracy: 0.8395\n",
      "Epoch 12/30\n",
      "60000/60000 [==============================] - 12s 196us/sample - loss: 0.0238 - accuracy: 0.8409\n",
      "Epoch 13/30\n",
      "60000/60000 [==============================] - 10s 163us/sample - loss: 0.0237 - accuracy: 0.8406\n",
      "Epoch 14/30\n",
      "60000/60000 [==============================] - 10s 174us/sample - loss: 0.0235 - accuracy: 0.8413\n",
      "Epoch 15/30\n",
      "60000/60000 [==============================] - 11s 191us/sample - loss: 0.0234 - accuracy: 0.8432\n",
      "Epoch 16/30\n",
      "60000/60000 [==============================] - 11s 182us/sample - loss: 0.0232 - accuracy: 0.8440\n",
      "Epoch 17/30\n",
      "60000/60000 [==============================] - 11s 186us/sample - loss: 0.0231 - accuracy: 0.8453\n",
      "Epoch 18/30\n",
      "60000/60000 [==============================] - 11s 189us/sample - loss: 0.0230 - accuracy: 0.8454\n",
      "Epoch 19/30\n",
      "60000/60000 [==============================] - 10s 171us/sample - loss: 0.0229 - accuracy: 0.8463\n",
      "Epoch 20/30\n",
      "60000/60000 [==============================] - 10s 172us/sample - loss: 0.0228 - accuracy: 0.8467\n",
      "Epoch 21/30\n",
      "60000/60000 [==============================] - 10s 170us/sample - loss: 0.0226 - accuracy: 0.8474- loss: 0.0227 - accuracy: 0.84\n",
      "Epoch 22/30\n",
      "60000/60000 [==============================] - 10s 165us/sample - loss: 0.0225 - accuracy: 0.8486\n",
      "Epoch 23/30\n",
      "60000/60000 [==============================] - 10s 172us/sample - loss: 0.0224 - accuracy: 0.8493\n",
      "Epoch 24/30\n",
      "60000/60000 [==============================] - 11s 180us/sample - loss: 0.0223 - accuracy: 0.8502\n",
      "Epoch 25/30\n",
      "60000/60000 [==============================] - 11s 183us/sample - loss: 0.0222 - accuracy: 0.8503\n",
      "Epoch 26/30\n",
      "60000/60000 [==============================] - 12s 208us/sample - loss: 0.0221 - accuracy: 0.8512\n",
      "Epoch 27/30\n",
      "60000/60000 [==============================] - 14s 229us/sample - loss: 0.0220 - accuracy: 0.8518\n",
      "Epoch 28/30\n",
      "60000/60000 [==============================] - 12s 194us/sample - loss: 0.0219 - accuracy: 0.8526\n",
      "Epoch 29/30\n",
      "60000/60000 [==============================] - 14s 241us/sample - loss: 0.0218 - accuracy: 0.8526\n",
      "Epoch 30/30\n",
      "60000/60000 [==============================] - 13s 213us/sample - loss: 0.0218 - accuracy: 0.8536\n"
     ]
    },
    {
     "data": {
      "text/plain": [
       "<tensorflow.python.keras.callbacks.History at 0x2026ec8a518>"
      ]
     },
     "execution_count": 39,
     "metadata": {},
     "output_type": "execute_result"
    }
   ],
   "source": [
    "model.fit(x_train,y_train, batch_size=200, epochs=30)"
   ]
  },
  {
   "cell_type": "code",
   "execution_count": 40,
   "metadata": {},
   "outputs": [
    {
     "name": "stdout",
     "output_type": "stream",
     "text": [
      "Train on 60000 samples\n",
      "Epoch 1/30\n",
      "60000/60000 [==============================] - 12s 201us/sample - loss: 0.0217 - accuracy: 0.8546\n",
      "Epoch 2/30\n",
      "60000/60000 [==============================] - 13s 210us/sample - loss: 0.0216 - accuracy: 0.8546\n",
      "Epoch 3/30\n",
      "60000/60000 [==============================] - 11s 191us/sample - loss: 0.0215 - accuracy: 0.8552\n",
      "Epoch 4/30\n",
      "60000/60000 [==============================] - 13s 212us/sample - loss: 0.0214 - accuracy: 0.8556\n",
      "Epoch 5/30\n",
      "60000/60000 [==============================] - 12s 203us/sample - loss: 0.0214 - accuracy: 0.8562\n",
      "Epoch 6/30\n",
      "60000/60000 [==============================] - 12s 192us/sample - loss: 0.0213 - accuracy: 0.8568\n",
      "Epoch 7/30\n",
      "60000/60000 [==============================] - 12s 192us/sample - loss: 0.0212 - accuracy: 0.8572\n",
      "Epoch 8/30\n",
      "60000/60000 [==============================] - 13s 216us/sample - loss: 0.0211 - accuracy: 0.8579\n",
      "Epoch 9/30\n",
      "60000/60000 [==============================] - 13s 210us/sample - loss: 0.0211 - accuracy: 0.8581\n",
      "Epoch 10/30\n",
      "60000/60000 [==============================] - 12s 207us/sample - loss: 0.0210 - accuracy: 0.8587\n",
      "Epoch 11/30\n",
      "60000/60000 [==============================] - 12s 204us/sample - loss: 0.0209 - accuracy: 0.8593\n",
      "Epoch 12/30\n",
      "60000/60000 [==============================] - 13s 210us/sample - loss: 0.0209 - accuracy: 0.8593\n",
      "Epoch 13/30\n",
      "60000/60000 [==============================] - 11s 186us/sample - loss: 0.0208 - accuracy: 0.8603\n",
      "Epoch 14/30\n",
      "60000/60000 [==============================] - 11s 184us/sample - loss: 0.0207 - accuracy: 0.8607\n",
      "Epoch 15/30\n",
      "60000/60000 [==============================] - 11s 188us/sample - loss: 0.0207 - accuracy: 0.8607\n",
      "Epoch 16/30\n",
      "60000/60000 [==============================] - 12s 196us/sample - loss: 0.0206 - accuracy: 0.8617\n",
      "Epoch 17/30\n",
      "60000/60000 [==============================] - 12s 198us/sample - loss: 0.0206 - accuracy: 0.8612\n",
      "Epoch 18/30\n",
      "60000/60000 [==============================] - 14s 230us/sample - loss: 0.0205 - accuracy: 0.8619\n",
      "Epoch 19/30\n",
      "60000/60000 [==============================] - 11s 191us/sample - loss: 0.0205 - accuracy: 0.8621\n",
      "Epoch 20/30\n",
      "60000/60000 [==============================] - 12s 201us/sample - loss: 0.0204 - accuracy: 0.8627\n",
      "Epoch 21/30\n",
      "60000/60000 [==============================] - 12s 192us/sample - loss: 0.0203 - accuracy: 0.8635\n",
      "Epoch 22/30\n",
      "60000/60000 [==============================] - 11s 189us/sample - loss: 0.0203 - accuracy: 0.8634\n",
      "Epoch 23/30\n",
      "60000/60000 [==============================] - 11s 185us/sample - loss: 0.0202 - accuracy: 0.8638\n",
      "Epoch 24/30\n",
      "60000/60000 [==============================] - 12s 195us/sample - loss: 0.0202 - accuracy: 0.8645\n",
      "Epoch 25/30\n",
      "60000/60000 [==============================] - 11s 191us/sample - loss: 0.0201 - accuracy: 0.8650\n",
      "Epoch 26/30\n",
      "60000/60000 [==============================] - 13s 216us/sample - loss: 0.0201 - accuracy: 0.8647\n",
      "Epoch 27/30\n",
      "60000/60000 [==============================] - 10s 168us/sample - loss: 0.0200 - accuracy: 0.8651\n",
      "Epoch 28/30\n",
      "60000/60000 [==============================] - 11s 183us/sample - loss: 0.0200 - accuracy: 0.8654\n",
      "Epoch 29/30\n",
      "60000/60000 [==============================] - 14s 232us/sample - loss: 0.0199 - accuracy: 0.8659\n",
      "Epoch 30/30\n",
      "60000/60000 [==============================] - 13s 213us/sample - loss: 0.0199 - accuracy: 0.8670\n"
     ]
    },
    {
     "data": {
      "text/plain": [
       "<tensorflow.python.keras.callbacks.History at 0x2026ecce710>"
      ]
     },
     "execution_count": 40,
     "metadata": {},
     "output_type": "execute_result"
    }
   ],
   "source": [
    "model.fit(x_train,y_train, batch_size=200, epochs=30)"
   ]
  },
  {
   "cell_type": "markdown",
   "metadata": {},
   "source": [
    "### 再訓練60次之後準確率來到0.86，馬馬虎虎"
   ]
  },
  {
   "cell_type": "markdown",
   "metadata": {},
   "source": [
    "## 6.訓練成果"
   ]
  },
  {
   "cell_type": "code",
   "execution_count": 41,
   "metadata": {},
   "outputs": [],
   "source": [
    "result=model.predict_classes(x_test)"
   ]
  },
  {
   "cell_type": "code",
   "execution_count": 46,
   "metadata": {},
   "outputs": [
    {
     "name": "stdout",
     "output_type": "stream",
     "text": [
      "神經網路預測是 Dress\n"
     ]
    },
    {
     "data": {
      "text/plain": [
       "<matplotlib.image.AxesImage at 0x2026eedacf8>"
      ]
     },
     "execution_count": 46,
     "metadata": {},
     "output_type": "execute_result"
    },
    {
     "data": {
      "image/png": "[encoded data removed]",
      "text/plain": [
       "<Figure size 432x288 with 1 Axes>"
      ]
     },
     "metadata": {
      "needs_background": "light"
     },
     "output_type": "display_data"
    }
   ],
   "source": [
    "n=100\n",
    "\n",
    "print('神經網路預測是', class_names[result[n]])\n",
    "plt.imshow(x_test[n].reshape(28,28),cmap='Greys')"
   ]
  },
  {
   "cell_type": "code",
   "execution_count": null,
   "metadata": {},
   "outputs": [],
   "source": []
  },
  {
   "cell_type": "code",
   "execution_count": null,
   "metadata": {},
   "outputs": [],
   "source": []
  }
 ],
 "metadata": {
  "kernelspec": {
   "display_name": "Python 3",
   "language": "python",
   "name": "python3"
  },
  "language_info": {
   "codemirror_mode": {
    "name": "ipython",
    "version": 3
   },
   "file_extension": ".py",
   "mimetype": "text/x-python",
   "name": "python",
   "nbconvert_exporter": "python",
   "pygments_lexer": "ipython3",
   "version": "3.6.10"
  }
 },
 "nbformat": 4,
 "nbformat_minor": 4
}
