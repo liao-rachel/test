{
 "cells": [
  {
   "cell_type": "code",
   "execution_count": 1,
   "metadata": {},
   "outputs": [
    {
     "name": "stdout",
     "output_type": "stream",
     "text": [
      "請先輸入成績再輸入學分數，中間空格，資料輸入完請按Enter鍵\n",
      "88 3\n",
      "90 2\n",
      "88 3\n",
      "\n",
      "88.5\n"
     ]
    }
   ],
   "source": [
    "print('請先輸入成績再輸入學分數，中間空格，資料輸入完請按Enter鍵')\n",
    "num=0\n",
    "numm=0\n",
    "while True:\n",
    "    temp = input()\n",
    "    if temp == '':\n",
    "        break\n",
    "    num+=int(temp.split()[0])*int(temp.split()[1])\n",
    "    numm+=int(temp.split()[1])\n",
    "print(num/numm)"
   ]
  },
  {
   "cell_type": "code",
   "execution_count": null,
   "metadata": {},
   "outputs": [],
   "source": []
  }
 ],
 "metadata": {
  "kernelspec": {
   "display_name": "Python 3",
   "language": "python",
   "name": "python3"
  },
  "language_info": {
   "codemirror_mode": {
    "name": "ipython",
    "version": 3
   },
   "file_extension": ".py",
   "mimetype": "text/x-python",
   "name": "python",
   "nbconvert_exporter": "python",
   "pygments_lexer": "ipython3",
   "version": "3.7.4"
  }
 },
 "nbformat": 4,
 "nbformat_minor": 2
}
