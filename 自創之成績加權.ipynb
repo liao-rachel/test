{
 "cells": [
  {
   "cell_type": "code",
   "execution_count": 2,
   "metadata": {},
   "outputs": [
    {
     "name": "stdout",
     "output_type": "stream",
     "text": [
      "請先輸入成績再輸入學分數，中間空格，資料輸入完請按Enter鍵\n",
      "87 3\n",
      "60 2\n",
      "87 3\n",
      "\n",
      "24.0\n"
     ]
    }
   ],
   "source": [
    "keyList=[]\n",
    "valueList=[]\n",
    "multi=[]\n",
    "print('請先輸入成績再輸入學分數，中間空格，資料輸入完請按Enter鍵')\n",
    "while True:\n",
    "    temp = input()\n",
    "    if temp == '':\n",
    "        break\n",
    "    keyList.append(int(temp.split()[0])*int(temp.split()[1]))\n",
    "    valueList.append(int(temp.split()[1]))\n",
    "num=0\n",
    "for each in valueList:\n",
    "    num+=each\n",
    "numm=0\n",
    "for each in keyList:\n",
    "    numm+=each\n",
    "ans=numm/num\n",
    "print(ans)"
   ]
  },
  {
   "cell_type": "code",
   "execution_count": null,
   "metadata": {},
   "outputs": [],
   "source": []
  }
 ],
 "metadata": {
  "kernelspec": {
   "display_name": "Python 3",
   "language": "python",
   "name": "python3"
  },
  "language_info": {
   "codemirror_mode": {
    "name": "ipython",
    "version": 3
   },
   "file_extension": ".py",
   "mimetype": "text/x-python",
   "name": "python",
   "nbconvert_exporter": "python",
   "pygments_lexer": "ipython3",
   "version": "3.7.4"
  }
 },
 "nbformat": 4,
 "nbformat_minor": 2
}
