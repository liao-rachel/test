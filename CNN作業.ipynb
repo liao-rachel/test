{
 "cells": [
  {
   "cell_type": "code",
   "execution_count": 1,
   "metadata": {},
   "outputs": [],
   "source": [
    "%matplotlib inline\n",
    "\n",
    "import numpy as np\n",
    "import matplotlib.pyplot as plt\n",
    "import pandas as pd"
   ]
  },
  {
   "cell_type": "code",
   "execution_count": 2,
   "metadata": {},
   "outputs": [],
   "source": [
    "from tensorflow.keras.datasets import fashion_mnist"
   ]
  },
  {
   "cell_type": "code",
   "execution_count": 3,
   "metadata": {},
   "outputs": [],
   "source": [
    "(x_train, y_train), (x_test, y_test) = fashion_mnist.load_data()"
   ]
  },
  {
   "cell_type": "code",
   "execution_count": 4,
   "metadata": {},
   "outputs": [
    {
     "data": {
      "text/plain": [
       "(60000, 28, 28)"
      ]
     },
     "execution_count": 4,
     "metadata": {},
     "output_type": "execute_result"
    }
   ],
   "source": [
    "x_train.shape"
   ]
  },
  {
   "cell_type": "markdown",
   "metadata": {},
   "source": [
    "## Channel的部分"
   ]
  },
  {
   "cell_type": "code",
   "execution_count": 5,
   "metadata": {},
   "outputs": [],
   "source": [
    "x_train = x_train.reshape(60000, 28, 28, 1) / 255"
   ]
  },
  {
   "cell_type": "code",
   "execution_count": 6,
   "metadata": {},
   "outputs": [],
   "source": [
    "x_test = x_test.reshape(10000, 28, 28, 1) / 255"
   ]
  },
  {
   "cell_type": "code",
   "execution_count": 7,
   "metadata": {},
   "outputs": [
    {
     "data": {
      "text/plain": [
       "(28, 28, 1)"
      ]
     },
     "execution_count": 7,
     "metadata": {},
     "output_type": "execute_result"
    }
   ],
   "source": [
    "x_train[87].shape"
   ]
  },
  {
   "cell_type": "code",
   "execution_count": 8,
   "metadata": {},
   "outputs": [
    {
     "data": {
      "text/plain": [
       "7"
      ]
     },
     "execution_count": 8,
     "metadata": {},
     "output_type": "execute_result"
    }
   ],
   "source": [
    "y_train[87]"
   ]
  },
  {
   "cell_type": "code",
   "execution_count": 9,
   "metadata": {},
   "outputs": [],
   "source": [
    "from tensorflow.keras.utils import to_categorical"
   ]
  },
  {
   "cell_type": "code",
   "execution_count": 10,
   "metadata": {},
   "outputs": [],
   "source": [
    "y_train = to_categorical(y_train, 10)\n",
    "y_test = to_categorical(y_test, 10)"
   ]
  },
  {
   "cell_type": "markdown",
   "metadata": {},
   "source": [
    "## 讀入函式"
   ]
  },
  {
   "cell_type": "code",
   "execution_count": 11,
   "metadata": {},
   "outputs": [],
   "source": [
    "from tensorflow.keras.models import Sequential\n",
    "from tensorflow.keras.layers import Conv2D, MaxPooling2D\n",
    "from tensorflow.keras.layers import Dense, Flatten\n",
    "from tensorflow.keras.optimizers import SGD"
   ]
  },
  {
   "cell_type": "markdown",
   "metadata": {},
   "source": [
    "## 打造函數學習機"
   ]
  },
  {
   "cell_type": "code",
   "execution_count": 12,
   "metadata": {},
   "outputs": [],
   "source": [
    "model = Sequential()"
   ]
  },
  {
   "cell_type": "code",
   "execution_count": 13,
   "metadata": {},
   "outputs": [],
   "source": [
    "model.add(Conv2D(20, (2,2), padding='same',input_shape=(28,28,1),activation='relu'))\n",
    "# 第一層，Con2D，12個filter，2*2的矩陣去掃"
   ]
  },
  {
   "cell_type": "code",
   "execution_count": 14,
   "metadata": {},
   "outputs": [],
   "source": [
    "model.add(MaxPooling2D(pool_size=(2,2)))\n",
    "# 第二層為MaxPooling"
   ]
  },
  {
   "cell_type": "code",
   "execution_count": 15,
   "metadata": {},
   "outputs": [],
   "source": [
    "model.add(Conv2D(40, (2,2), padding='same', activation='relu'))\n",
    "# 第三層，因為第一次是12，所以第二次就改成24"
   ]
  },
  {
   "cell_type": "code",
   "execution_count": 16,
   "metadata": {},
   "outputs": [],
   "source": [
    "model.add(MaxPooling2D(pool_size=(2,2)))\n",
    "# 第四層"
   ]
  },
  {
   "cell_type": "code",
   "execution_count": 17,
   "metadata": {},
   "outputs": [],
   "source": [
    "model.add(Conv2D(80, (2,2), padding='same',activation='relu'))\n",
    "# 第五層"
   ]
  },
  {
   "cell_type": "code",
   "execution_count": 18,
   "metadata": {},
   "outputs": [],
   "source": [
    "model.add(MaxPooling2D(pool_size=(2,2)))"
   ]
  },
  {
   "cell_type": "code",
   "execution_count": 19,
   "metadata": {},
   "outputs": [],
   "source": [
    "model.add(Flatten())\n",
    "# 拉平"
   ]
  },
  {
   "cell_type": "code",
   "execution_count": 20,
   "metadata": {},
   "outputs": [],
   "source": [
    "model.add(Dense(54, activation='relu'))"
   ]
  },
  {
   "cell_type": "code",
   "execution_count": 21,
   "metadata": {},
   "outputs": [],
   "source": [
    "model.add(Dense(10, activation='softmax'))\n",
    "# 輸出10不能改"
   ]
  },
  {
   "cell_type": "markdown",
   "metadata": {},
   "source": [
    "## 檢視神經網路"
   ]
  },
  {
   "cell_type": "code",
   "execution_count": 22,
   "metadata": {},
   "outputs": [
    {
     "name": "stdout",
     "output_type": "stream",
     "text": [
      "Model: \"sequential\"\n",
      "_________________________________________________________________\n",
      "Layer (type)                 Output Shape              Param #   \n",
      "=================================================================\n",
      "conv2d (Conv2D)              (None, 28, 28, 20)        100       \n",
      "_________________________________________________________________\n",
      "max_pooling2d (MaxPooling2D) (None, 14, 14, 20)        0         \n",
      "_________________________________________________________________\n",
      "conv2d_1 (Conv2D)            (None, 14, 14, 40)        3240      \n",
      "_________________________________________________________________\n",
      "max_pooling2d_1 (MaxPooling2 (None, 7, 7, 40)          0         \n",
      "_________________________________________________________________\n",
      "conv2d_2 (Conv2D)            (None, 7, 7, 80)          12880     \n",
      "_________________________________________________________________\n",
      "max_pooling2d_2 (MaxPooling2 (None, 3, 3, 80)          0         \n",
      "_________________________________________________________________\n",
      "flatten (Flatten)            (None, 720)               0         \n",
      "_________________________________________________________________\n",
      "dense (Dense)                (None, 54)                38934     \n",
      "_________________________________________________________________\n",
      "dense_1 (Dense)              (None, 10)                550       \n",
      "=================================================================\n",
      "Total params: 55,704\n",
      "Trainable params: 55,704\n",
      "Non-trainable params: 0\n",
      "_________________________________________________________________\n"
     ]
    }
   ],
   "source": [
    "model.summary()"
   ]
  },
  {
   "cell_type": "code",
   "execution_count": 29,
   "metadata": {},
   "outputs": [
    {
     "data": {
      "text/plain": [
       "100"
      ]
     },
     "execution_count": 29,
     "metadata": {},
     "output_type": "execute_result"
    }
   ],
   "source": [
    "(2*2+1)*20"
   ]
  },
  {
   "cell_type": "code",
   "execution_count": 24,
   "metadata": {},
   "outputs": [
    {
     "data": {
      "text/plain": [
       "1176"
      ]
     },
     "execution_count": 24,
     "metadata": {},
     "output_type": "execute_result"
    }
   ],
   "source": [
    "(2*2*12+1)*24\n",
    "# 稍微試算一下"
   ]
  },
  {
   "cell_type": "code",
   "execution_count": 25,
   "metadata": {},
   "outputs": [],
   "source": [
    "model.compile(loss='mae', optimizer=SGD(lr=0.078),metrics=['accuracy'])\n",
    "# loss function改成mae，learning rate=0.078"
   ]
  },
  {
   "cell_type": "markdown",
   "metadata": {},
   "source": [
    "## 訓練"
   ]
  },
  {
   "cell_type": "code",
   "execution_count": 26,
   "metadata": {},
   "outputs": [
    {
     "name": "stdout",
     "output_type": "stream",
     "text": [
      "Train on 60000 samples\n",
      "Epoch 1/20\n",
      "60000/60000 [==============================] - 212s 4ms/sample - loss: 0.1796 - accuracy: 0.1241\n",
      "Epoch 2/20\n",
      "60000/60000 [==============================] - 178s 3ms/sample - loss: 0.1790 - accuracy: 0.1912\n",
      "Epoch 3/20\n",
      "60000/60000 [==============================] - 166s 3ms/sample - loss: 0.1776 - accuracy: 0.2233\n",
      "Epoch 4/20\n",
      "60000/60000 [==============================] - 164s 3ms/sample - loss: 0.1700 - accuracy: 0.2725\n",
      "Epoch 5/20\n",
      "60000/60000 [==============================] - 164s 3ms/sample - loss: 0.1292 - accuracy: 0.3977\n",
      "Epoch 6/20\n",
      "60000/60000 [==============================] - 166s 3ms/sample - loss: 0.1171 - accuracy: 0.4360\n",
      "Epoch 7/20\n",
      "60000/60000 [==============================] - 172s 3ms/sample - loss: 0.1137 - accuracy: 0.4468\n",
      "Epoch 8/20\n",
      "60000/60000 [==============================] - 168s 3ms/sample - loss: 0.1121 - accuracy: 0.4505\n",
      "Epoch 9/20\n",
      "60000/60000 [==============================] - 165s 3ms/sample - loss: 0.1111 - accuracy: 0.4529\n",
      "Epoch 10/20\n",
      "60000/60000 [==============================] - 166s 3ms/sample - loss: 0.1104 - accuracy: 0.4546\n",
      "Epoch 11/20\n",
      "60000/60000 [==============================] - 167s 3ms/sample - loss: 0.1092 - accuracy: 0.4609\n",
      "Epoch 12/20\n",
      "60000/60000 [==============================] - 166s 3ms/sample - loss: 0.1064 - accuracy: 0.4778\n",
      "Epoch 13/20\n",
      "60000/60000 [==============================] - 163s 3ms/sample - loss: 0.1045 - accuracy: 0.4868\n",
      "Epoch 14/20\n",
      "60000/60000 [==============================] - 167s 3ms/sample - loss: 0.1029 - accuracy: 0.4944\n",
      "Epoch 15/20\n",
      "60000/60000 [==============================] - 168s 3ms/sample - loss: 0.0998 - accuracy: 0.5123\n",
      "Epoch 16/20\n",
      "60000/60000 [==============================] - 165s 3ms/sample - loss: 0.0865 - accuracy: 0.5828\n",
      "Epoch 17/20\n",
      "60000/60000 [==============================] - 162s 3ms/sample - loss: 0.0841 - accuracy: 0.5899\n",
      "Epoch 18/20\n",
      "60000/60000 [==============================] - 169s 3ms/sample - loss: 0.0829 - accuracy: 0.5942\n",
      "Epoch 19/20\n",
      "60000/60000 [==============================] - 165s 3ms/sample - loss: 0.0821 - accuracy: 0.5970\n",
      "Epoch 20/20\n",
      "60000/60000 [==============================] - 165s 3ms/sample - loss: 0.0814 - accuracy: 0.6002\n"
     ]
    },
    {
     "data": {
      "text/plain": [
       "<tensorflow.python.keras.callbacks.History at 0x21e4ec87b38>"
      ]
     },
     "execution_count": 26,
     "metadata": {},
     "output_type": "execute_result"
    }
   ],
   "source": [
    "model.fit(x_train, y_train, batch_size=150, epochs=20)"
   ]
  },
  {
   "cell_type": "code",
   "execution_count": 30,
   "metadata": {},
   "outputs": [
    {
     "name": "stdout",
     "output_type": "stream",
     "text": [
      "Train on 60000 samples\n",
      "Epoch 1/20\n",
      "60000/60000 [==============================] - 216s 4ms/sample - loss: 0.0809 - accuracy: 0.6021\n",
      "Epoch 2/20\n",
      "60000/60000 [==============================] - 179s 3ms/sample - loss: 0.0804 - accuracy: 0.6043\n",
      "Epoch 3/20\n",
      "60000/60000 [==============================] - 169s 3ms/sample - loss: 0.0801 - accuracy: 0.6055\n",
      "Epoch 4/20\n",
      "60000/60000 [==============================] - 168s 3ms/sample - loss: 0.0797 - accuracy: 0.6076\n",
      "Epoch 5/20\n",
      "60000/60000 [==============================] - 170s 3ms/sample - loss: 0.0794 - accuracy: 0.6086\n",
      "Epoch 6/20\n",
      "60000/60000 [==============================] - 164s 3ms/sample - loss: 0.0790 - accuracy: 0.6104\n",
      "Epoch 7/20\n",
      "60000/60000 [==============================] - 165s 3ms/sample - loss: 0.0787 - accuracy: 0.6110\n",
      "Epoch 8/20\n",
      "60000/60000 [==============================] - 164s 3ms/sample - loss: 0.0786 - accuracy: 0.6119\n",
      "Epoch 9/20\n",
      "60000/60000 [==============================] - 161s 3ms/sample - loss: 0.0783 - accuracy: 0.6132\n",
      "Epoch 10/20\n",
      "60000/60000 [==============================] - 163s 3ms/sample - loss: 0.0780 - accuracy: 0.6148\n",
      "Epoch 11/20\n",
      "60000/60000 [==============================] - 163s 3ms/sample - loss: 0.0777 - accuracy: 0.6162\n",
      "Epoch 12/20\n",
      "60000/60000 [==============================] - 164s 3ms/sample - loss: 0.0776 - accuracy: 0.6170\n",
      "Epoch 13/20\n",
      "60000/60000 [==============================] - 163s 3ms/sample - loss: 0.0774 - accuracy: 0.6176\n",
      "Epoch 14/20\n",
      "60000/60000 [==============================] - 174s 3ms/sample - loss: 0.0771 - accuracy: 0.6191\n",
      "Epoch 15/20\n",
      "60000/60000 [==============================] - 163s 3ms/sample - loss: 0.0771 - accuracy: 0.6191\n",
      "Epoch 16/20\n",
      "60000/60000 [==============================] - 164s 3ms/sample - loss: 0.0768 - accuracy: 0.6207\n",
      "Epoch 17/20\n",
      "60000/60000 [==============================] - 178s 3ms/sample - loss: 0.0766 - accuracy: 0.6212\n",
      "Epoch 18/20\n",
      "60000/60000 [==============================] - 165s 3ms/sample - loss: 0.0764 - accuracy: 0.6225\n",
      "Epoch 19/20\n",
      "60000/60000 [==============================] - 163s 3ms/sample - loss: 0.0762 - accuracy: 0.6234\n",
      "Epoch 20/20\n",
      "60000/60000 [==============================] - 173s 3ms/sample - loss: 0.0759 - accuracy: 0.6251\n"
     ]
    },
    {
     "data": {
      "text/plain": [
       "<tensorflow.python.keras.callbacks.History at 0x21e4eff2a20>"
      ]
     },
     "execution_count": 30,
     "metadata": {},
     "output_type": "execute_result"
    }
   ],
   "source": [
    "model.fit(x_train, y_train, batch_size=150, epochs=20)\n",
    "# 因為準確率只有0.6，所以再做20次"
   ]
  },
  {
   "cell_type": "markdown",
   "metadata": {},
   "source": [
    "### 花了兩個小時跑出來的結果準確率還是很低QQ"
   ]
  },
  {
   "cell_type": "markdown",
   "metadata": {},
   "source": [
    "## 預測"
   ]
  },
  {
   "cell_type": "code",
   "execution_count": 34,
   "metadata": {},
   "outputs": [],
   "source": [
    "class_names = ['T-shirt/top', 'Trouser', 'Pullover', 'Dress', 'Coat',\n",
    "               'Sandal', 'Shirt', 'Sneaker', 'Bag', 'Ankle boot']"
   ]
  },
  {
   "cell_type": "code",
   "execution_count": 35,
   "metadata": {},
   "outputs": [],
   "source": [
    "result = model.predict_classes(x_test)"
   ]
  },
  {
   "cell_type": "code",
   "execution_count": 36,
   "metadata": {},
   "outputs": [],
   "source": [
    "def my_predict(n):\n",
    "    print('我可愛的 CNN 預測是', class_names[result[n]])\n",
    "    X = x_test[n].reshape(28,28)\n",
    "    plt.imshow(X, cmap='Greys')"
   ]
  },
  {
   "cell_type": "code",
   "execution_count": 37,
   "metadata": {},
   "outputs": [
    {
     "name": "stdout",
     "output_type": "stream",
     "text": [
      "我可愛的 CNN 預測是 Pullover\n"
     ]
    },
    {
     "data": {
      "image/png": "[encoded data removed]",
      "text/plain": [
       "<Figure size 432x288 with 1 Axes>"
      ]
     },
     "metadata": {
      "needs_background": "light"
     },
     "output_type": "display_data"
    }
   ],
   "source": [
    "my_predict(55)"
   ]
  },
  {
   "cell_type": "code",
   "execution_count": null,
   "metadata": {},
   "outputs": [],
   "source": []
  },
  {
   "cell_type": "code",
   "execution_count": null,
   "metadata": {},
   "outputs": [],
   "source": []
  },
  {
   "cell_type": "code",
   "execution_count": null,
   "metadata": {},
   "outputs": [],
   "source": []
  },
  {
   "cell_type": "code",
   "execution_count": null,
   "metadata": {},
   "outputs": [],
   "source": []
  }
 ],
 "metadata": {
  "kernelspec": {
   "display_name": "Python 3",
   "language": "python",
   "name": "python3"
  },
  "language_info": {
   "codemirror_mode": {
    "name": "ipython",
    "version": 3
   },
   "file_extension": ".py",
   "mimetype": "text/x-python",
   "name": "python",
   "nbconvert_exporter": "python",
   "pygments_lexer": "ipython3",
   "version": "3.6.10"
  }
 },
 "nbformat": 4,
 "nbformat_minor": 4
}
